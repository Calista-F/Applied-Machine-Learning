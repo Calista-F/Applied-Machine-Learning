{
  "nbformat": 4,
  "nbformat_minor": 0,
  "metadata": {
    "colab": {
      "name": "20220407 Wavelet runthrough Signal 60-5.ipynb",
      "provenance": [],
      "collapsed_sections": [],
      "mount_file_id": "1Dzs2oPNvy0ila88gSlFthJhpeodX4aYY",
      "authorship_tag": "ABX9TyNlXmdvVpVuE1veQ7dlOQj5",
      "include_colab_link": true
    },
    "kernelspec": {
      "name": "python3",
      "display_name": "Python 3"
    },
    "language_info": {
      "name": "python"
    }
  },
  "cells": [
    {
      "cell_type": "markdown",
      "metadata": {
        "id": "view-in-github",
        "colab_type": "text"
      },
      "source": [
        "<a href=\"https://colab.research.google.com/github/Calista-F/Applied-Machine-Learning/blob/main/20220407_Wavelet_runthrough_Signal_60_5.ipynb\" target=\"_parent\"><img src=\"https://colab.research.google.com/assets/colab-badge.svg\" alt=\"Open In Colab\"/></a>"
      ]
    },
    {
      "cell_type": "code",
      "metadata": {
        "id": "wVNfRB4dH5qu"
      },
      "source": [
        "import numpy as np\n",
        "import pywt\n",
        "from skimage.restoration import denoise_wavelet\n",
        "import matplotlib.pyplot as plt\n",
        "from pylab import *\n",
        "from matplotlib.pyplot import figure\n",
        "plt.rcParams.update({'font.family':'serif'})\n",
        "import pandas as pd\n",
        "from google.colab import files\n",
        "\n",
        "from math import log10, sqrt\n",
        "import cv2\n",
        "import numpy as np"
      ],
      "execution_count": 1,
      "outputs": []
    },
    {
      "cell_type": "code",
      "metadata": {
        "id": "Bsu-EBO6-zRr"
      },
      "source": [
        "from sklearn.metrics import  mean_squared_error, mean_absolute_error, max_error\n",
        "import math\n",
        "\n",
        "def get_rmse(y_target, y_computed):\n",
        "  RMSE = mean_squared_error(y_target, y_computed, squared=False)\n",
        "  return RMSE"
      ],
      "execution_count": 2,
      "outputs": []
    },
    {
      "cell_type": "code",
      "source": [
        "def get_min_rmse(df):\n",
        "  return df[df['RMSE'] == df['RMSE'].min()]"
      ],
      "metadata": {
        "id": "yMaAXq6n-NSK"
      },
      "execution_count": 3,
      "outputs": []
    },
    {
      "cell_type": "code",
      "source": [
        "from google.colab import auth\n",
        "auth.authenticate_user()\n",
        "\n",
        "import gspread\n",
        "from google.auth import default\n",
        "creds, _ = default()\n",
        "\n",
        "gc = gspread.authorize(creds)"
      ],
      "metadata": {
        "id": "IcV1sY243Ye-"
      },
      "execution_count": null,
      "outputs": []
    },
    {
      "cell_type": "code",
      "source": [
        "# Load worksheet\n",
        "repo = gc.open_by_url('https://docs.google.com/spreadsheets/d/1VB7SaGWtdRc8lsV4EXCRuQfwXWYLnf8KbMgmsqezgZs/edit#gid=1342867710')\n",
        "worksheet = repo.worksheet('CCSN_signal60_dist5.0')\n",
        "\n",
        "#make a df\n",
        "CCSN60 = worksheet.get_all_values()\n",
        "ccsn_df = pd.DataFrame(CCSN60)\n",
        "ccsn_df.columns = ccsn_df.iloc[0]\n",
        "ccsn_df = ccsn_df.iloc[1:]\n",
        "\n",
        "#make numeric\n",
        "ccsn_df = ccsn_df.apply(pd.to_numeric)"
      ],
      "metadata": {
        "id": "OqfkgzDojKGw"
      },
      "execution_count": null,
      "outputs": []
    },
    {
      "cell_type": "markdown",
      "source": [
        "###Table 1. Denoising results for the CCSN signal s20a1o05 at a distance of 5 kpc (SNR = 3.9 dB)."
      ],
      "metadata": {
        "id": "e-EFdcjNbrAZ"
      }
    },
    {
      "cell_type": "code",
      "metadata": {
        "id": "e7MUeV4lc6RV"
      },
      "source": [
        "noisy_norm_df = ccsn_df['signal + noise'].loc[20000:24000]/max(ccsn_df['signal + noise'].loc[20000:24000])\n",
        "signal_norm_df = ccsn_df['signal template'].loc[20000:24000]/max(ccsn_df['signal + noise'].loc[20000:24000])\n",
        "\n",
        "plt.plot(noisy_norm_df, label ='Signal embedded in noise')\n",
        "plt.title('Signal 60, 5pc')\n",
        "plt.plot(signal_norm_df, label ='Signal template')\n",
        "plt.legend()"
      ],
      "execution_count": null,
      "outputs": []
    },
    {
      "cell_type": "markdown",
      "source": [
        "Declare necessary lists for table 1"
      ],
      "metadata": {
        "id": "699KHPHuR3Hg"
      }
    },
    {
      "cell_type": "code",
      "source": [
        "#pywt.wavelist()"
      ],
      "metadata": {
        "id": "sQ4gMl2zdDf8"
      },
      "execution_count": null,
      "outputs": []
    },
    {
      "cell_type": "code",
      "source": [
        "metrics = ['RMSE','MAE','MAX']\n",
        "wavelets = ['sym5','db13','coif1']\n",
        "sym_wavelets = ['sym'+str(i) for i in range(2,21)]\n",
        "db_wavelets = ['db'+str(i) for i in range(1,39)]\n",
        "coif_wavelets = ['coif'+str(i) for i in range(1,18)]\n",
        "levels = np.arange(1,7,1)\n",
        "methods = ['BayesShrink','VisuShrink']\n",
        "indexcol = ['RMSE','MAE','MAX']"
      ],
      "metadata": {
        "id": "WAvmyHgM-8vU"
      },
      "execution_count": null,
      "outputs": []
    },
    {
      "cell_type": "markdown",
      "source": [
        "Create a main list that appends each line and each metric result"
      ],
      "metadata": {
        "id": "o6TcXTThU-CR"
      }
    },
    {
      "cell_type": "code",
      "source": [
        "main_list = []\n",
        "\n",
        "for m in methods:\n",
        "  cols = []\n",
        "  for i in range(len(sym_wavelets)):\n",
        "    for l in range(len(levels)):\n",
        "      #Make a dataframe for the denoised signal of the noisy normalized signal\n",
        "      denoised_df = pd.DataFrame(denoise_wavelet(noisy_norm_df, method = m, mode ='hard', wavelet = sym_wavelets[i], wavelet_levels = levels[l], rescale_sigma = 'True'))\n",
        "      \n",
        "      #Create col1- a list that contains the signal properties (which signal template was used), denoising properties, and denoising performance metrics\n",
        "      col1 = [str(m).upper() +', '+ sym_wavelets[i] + ' level ' + str(levels[l])] \n",
        "      col1.append(get_rmse(signal_norm_df, denoised_df))\n",
        "      col1.append(mean_absolute_error(signal_norm_df, denoised_df))\n",
        "      col1.append(max_error(signal_norm_df, denoised_df))\n",
        "\n",
        "      #append this column to cols- a list of columns for the table \n",
        "      cols.append(col1)\n",
        "  main_list.append(cols)\n",
        "\n",
        "  main_array = np.array(main_list)"
      ],
      "metadata": {
        "id": "NzcdRmAhhIGn"
      },
      "execution_count": null,
      "outputs": []
    },
    {
      "cell_type": "code",
      "source": [
        "def denoising_metrics(wavelet_family, max_level):\n",
        "\n",
        "  main_list = []\n",
        "  for m in methods:\n",
        "    cols = []\n",
        "    for i in range(len(wavelet_family)):\n",
        "      for l in range(len(np.arange(1,max_level,1))):\n",
        "        #Make a dataframe for the denoised signal of the noisy normalized signal\n",
        "        denoised_df = pd.DataFrame(denoise_wavelet(noisy_norm_df, method = m, mode ='hard', wavelet = wavelet_family[i], wavelet_levels = np.arange(1,max_level,1)[l], rescale_sigma = 'True'))\n",
        "        \n",
        "        #Create col1- a list that contains the signal properties (which signal template was used), denoising properties, and denoising performance metrics\n",
        "        col1 = [str(m).upper() +', '+ wavelet_family[i] + ' level ' + str(levels[l])] \n",
        "        col1.append(get_rmse(signal_norm_df, denoised_df))\n",
        "        col1.append(mean_absolute_error(signal_norm_df, denoised_df))\n",
        "        col1.append(max_error(signal_norm_df, denoised_df))\n",
        "\n",
        "        #append this column to cols- a list of columns for the table \n",
        "        cols.append(col1)\n",
        "    main_list.append(cols)\n",
        "  return np.array(main_list)"
      ],
      "metadata": {
        "id": "uOJoZ5gn61zZ"
      },
      "execution_count": null,
      "outputs": []
    },
    {
      "cell_type": "code",
      "source": [
        "df_minrmse = pd.DataFrame()\n",
        "df_minrmse"
      ],
      "metadata": {
        "id": "G_0zy4v5yRh5"
      },
      "execution_count": null,
      "outputs": []
    },
    {
      "cell_type": "code",
      "source": [
        "symlet_array = denoising_metrics(sym_wavelets, 7)"
      ],
      "metadata": {
        "id": "hk_bQRXQ7gGm"
      },
      "execution_count": null,
      "outputs": []
    },
    {
      "cell_type": "code",
      "source": [
        "BayesSymdf = pd.DataFrame(data = symlet_array[0,:,1:], columns = metrics, index = symlet_array[0,:,0])\n",
        "BayesSymdf"
      ],
      "metadata": {
        "id": "29st_cMRwvjM"
      },
      "execution_count": null,
      "outputs": []
    },
    {
      "cell_type": "code",
      "source": [
        "df_minrmse = df_minrmse.append(get_min_rmse(BayesSymdf))\n",
        "df_minrmse"
      ],
      "metadata": {
        "id": "gYwBoV4E-W2w"
      },
      "execution_count": null,
      "outputs": []
    },
    {
      "cell_type": "code",
      "source": [
        "VisuSymdf = pd.DataFrame(data = symlet_array[1,:,1:], columns = metrics, index = symlet_array[1,:,0])\n",
        "VisuSymdf"
      ],
      "metadata": {
        "id": "oX5EZ-scx_62"
      },
      "execution_count": null,
      "outputs": []
    },
    {
      "cell_type": "code",
      "source": [
        "df_minrmse = df_minrmse.append(get_min_rmse(VisuSymdf))\n",
        "df_minrmse"
      ],
      "metadata": {
        "id": "abD40rcZ-4zE"
      },
      "execution_count": null,
      "outputs": []
    },
    {
      "cell_type": "code",
      "source": [
        "db_array = denoising_metrics(db_wavelets,6)"
      ],
      "metadata": {
        "id": "H9GrtHkLjMnv"
      },
      "execution_count": null,
      "outputs": []
    },
    {
      "cell_type": "code",
      "source": [
        "db_array.shape"
      ],
      "metadata": {
        "id": "1ZcpekS--IQ5"
      },
      "execution_count": null,
      "outputs": []
    },
    {
      "cell_type": "code",
      "source": [
        "BayesDbdf = pd.DataFrame(data = db_array[0,:,1:], columns = metrics, index = db_array[0,:,0])\n",
        "BayesDbdf"
      ],
      "metadata": {
        "id": "-7fQWM6ZIeaN"
      },
      "execution_count": null,
      "outputs": []
    },
    {
      "cell_type": "code",
      "source": [
        "df_minrmse = df_minrmse.append(get_min_rmse(BayesDbdf))\n",
        "df_minrmse"
      ],
      "metadata": {
        "id": "kAd9HY3A-8Xi"
      },
      "execution_count": null,
      "outputs": []
    },
    {
      "cell_type": "code",
      "source": [
        "VisuDbdf = pd.DataFrame(data = db_array[1,:,1:], columns = metrics, index = db_array[1,:,0])\n",
        "VisuDbdf"
      ],
      "metadata": {
        "id": "BqeCMAmI9wdO"
      },
      "execution_count": null,
      "outputs": []
    },
    {
      "cell_type": "code",
      "source": [
        "df_minrmse = df_minrmse.append(get_min_rmse(VisuDbdf))\n",
        "df_minrmse"
      ],
      "metadata": {
        "id": "8FTVljdT_Cuc"
      },
      "execution_count": null,
      "outputs": []
    },
    {
      "cell_type": "code",
      "source": [
        "coif_array = denoising_metrics(coif_wavelets,6)"
      ],
      "metadata": {
        "id": "fzy2Srt48gs7"
      },
      "execution_count": null,
      "outputs": []
    },
    {
      "cell_type": "code",
      "source": [
        "coif_array.shape"
      ],
      "metadata": {
        "id": "r4AHrBHe8gs7"
      },
      "execution_count": null,
      "outputs": []
    },
    {
      "cell_type": "code",
      "source": [
        "Bayescoifdf = pd.DataFrame(data = coif_array[0,:,1:], columns = metrics, index = coif_array[0,:,0])\n",
        "Bayescoifdf"
      ],
      "metadata": {
        "id": "kRs1cNQF8gs8"
      },
      "execution_count": null,
      "outputs": []
    },
    {
      "cell_type": "code",
      "source": [
        "df_minrmse = df_minrmse.append(get_min_rmse(Bayescoifdf))\n",
        "df_minrmse"
      ],
      "metadata": {
        "id": "66tDZQOa969m"
      },
      "execution_count": null,
      "outputs": []
    },
    {
      "cell_type": "code",
      "source": [
        "Visucoifdf = pd.DataFrame(data = coif_array[1,:,1:], columns = metrics, index = coif_array[1,:,0])\n",
        "Visucoifdf"
      ],
      "metadata": {
        "id": "a2-adduG8gs8"
      },
      "execution_count": null,
      "outputs": []
    },
    {
      "cell_type": "code",
      "source": [
        "df_minrmse = df_minrmse.append(get_min_rmse(Visucoifdf))\n",
        "df_minrmse"
      ],
      "metadata": {
        "id": "FSeSB3AM9T0_"
      },
      "execution_count": null,
      "outputs": []
    },
    {
      "cell_type": "code",
      "source": [
        "best_df = pd.DataFrame(denoise_wavelet(noisy_norm_df, method = 'BayesShrink', mode ='hard', wavelet = 'db12', wavelet_levels = 5, rescale_sigma = 'True'))"
      ],
      "metadata": {
        "id": "uNMpKmROqHAw"
      },
      "execution_count": null,
      "outputs": []
    },
    {
      "cell_type": "code",
      "source": [
        "plt.plot(noisy_norm_df.reset_index(drop=True))\n",
        "plt.plot(signal_norm_df.reset_index(drop=True))\n",
        "plt.plot(best_df)"
      ],
      "metadata": {
        "id": "GSXgGYtJp-fX"
      },
      "execution_count": null,
      "outputs": []
    },
    {
      "cell_type": "code",
      "source": [
        "def printsubplots(denoised):\n",
        "  linewidthplots=0.6\n",
        "  fig, axs = plt.subplots(1, 2)\n",
        "  fig.set_size_inches(10, 4)\n",
        "  axs[0].plot(noisy_norm_df.reset_index(drop=True),'gray', alpha = 0.7, linewidth=linewidthplots, label='Noisy')\n",
        "  axs[0].plot(signal_norm_df.reset_index(drop=True), 'r', linewidth=linewidthplots, label='Signal')\n",
        "  axs[0].plot(denoised,'b', linewidth=linewidthplots, label='Denoised')\n",
        "  axs[0].legend()\n",
        "  axs[0].set_xlabel('t (s)')\n",
        "  axs[0].set_ylim(-1.2,1.2)\n",
        "  \n",
        "  axs[1].plot((signal_norm_df.reset_index(drop=True)-denoised), 'b', linewidth=linewidthplots)\n",
        "  axs[1].set_xlabel('t (s)')\n",
        "  axs[1].set_ylim(-1.2,1.2)\n",
        "  plt.tight_layout()\n",
        "\n",
        "def savensave(figname):\n",
        "  plt.savefig(figname,pad_inches=0,transparent=True, dpi=300)\n",
        "  files.download(figname)"
      ],
      "metadata": {
        "id": "dPUTB5gd8aHB"
      },
      "execution_count": null,
      "outputs": []
    },
    {
      "cell_type": "code",
      "source": [
        "bayesdb605 = denoise_wavelet(noisy_norm_df, method = 'BayesShrink', mode ='hard', wavelet = 'db12', wavelet_levels = 5, rescale_sigma = 'True')"
      ],
      "metadata": {
        "id": "XiC2Ql3yf3Rc"
      },
      "execution_count": null,
      "outputs": []
    },
    {
      "cell_type": "code",
      "source": [
        "printsubplots(bayesdb605)\n",
        "savensave(\"bayesdb605.png\")"
      ],
      "metadata": {
        "id": "oUewbgzXf4Eu"
      },
      "execution_count": null,
      "outputs": []
    }
  ]
}